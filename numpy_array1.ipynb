{
 "cells": [
  {
   "cell_type": "code",
   "execution_count": 1,
   "id": "5dadd4a0",
   "metadata": {},
   "outputs": [],
   "source": [
    "import numpy as np"
   ]
  },
  {
   "cell_type": "markdown",
   "id": "55057c65",
   "metadata": {},
   "source": [
    "#numpy arrayler python list lerine benziyor ancak homojen( tek veri tipinde) elemanları olması gerekiyor."
   ]
  },
  {
   "cell_type": "markdown",
   "id": "6c501fac",
   "metadata": {},
   "source": [
    "# listlerden array yaratmak"
   ]
  },
  {
   "cell_type": "code",
   "execution_count": 2,
   "id": "21c5f25a",
   "metadata": {},
   "outputs": [],
   "source": [
    "x=np.array([1,2,3,4])"
   ]
  },
  {
   "cell_type": "code",
   "execution_count": 3,
   "id": "f5651b80",
   "metadata": {},
   "outputs": [
    {
     "data": {
      "text/plain": [
       "array([1, 2, 3, 4])"
      ]
     },
     "execution_count": 3,
     "metadata": {},
     "output_type": "execute_result"
    }
   ],
   "source": [
    "x"
   ]
  },
  {
   "cell_type": "markdown",
   "id": "457485c2",
   "metadata": {},
   "source": [
    "#integer ve float veri tipi birlikteyken bütün elemanlar float türünde yazılır. float daha genel."
   ]
  },
  {
   "cell_type": "code",
   "execution_count": 6,
   "id": "78332382",
   "metadata": {},
   "outputs": [],
   "source": [
    "b=np.array([1,2,3,4.5])"
   ]
  },
  {
   "cell_type": "code",
   "execution_count": 7,
   "id": "6e9faba3",
   "metadata": {},
   "outputs": [
    {
     "data": {
      "text/plain": [
       "array([1. , 2. , 3. , 4.5])"
      ]
     },
     "execution_count": 7,
     "metadata": {},
     "output_type": "execute_result"
    }
   ],
   "source": [
    "b"
   ]
  },
  {
   "cell_type": "code",
   "execution_count": 8,
   "id": "e9dc8f72",
   "metadata": {},
   "outputs": [],
   "source": [
    "#integer, float ve string için hepsi stringe dönüştürülür.\n",
    "c=np.array([1,2,3,4.5,'2'])"
   ]
  },
  {
   "cell_type": "code",
   "execution_count": 9,
   "id": "fe9cd697",
   "metadata": {},
   "outputs": [
    {
     "data": {
      "text/plain": [
       "array(['1', '2', '3', '4.5', '2'], dtype='<U32')"
      ]
     },
     "execution_count": 9,
     "metadata": {},
     "output_type": "execute_result"
    }
   ],
   "source": [
    "c"
   ]
  },
  {
   "cell_type": "markdown",
   "id": "4cd7f569",
   "metadata": {},
   "source": [
    "# array data tipini manuel olarak belirtmek"
   ]
  },
  {
   "cell_type": "markdown",
   "id": "bccb0bef",
   "metadata": {},
   "source": [
    "arrayin elemanlarının tipini kendimiz belirtebiliriz."
   ]
  },
  {
   "cell_type": "code",
   "execution_count": 14,
   "id": "497d5013",
   "metadata": {},
   "outputs": [],
   "source": [
    "x= np.array([1,2,3,4.5])"
   ]
  },
  {
   "cell_type": "code",
   "execution_count": 15,
   "id": "0425f910",
   "metadata": {},
   "outputs": [
    {
     "data": {
      "text/plain": [
       "array([1. , 2. , 3. , 4.5])"
      ]
     },
     "execution_count": 15,
     "metadata": {},
     "output_type": "execute_result"
    }
   ],
   "source": [
    "x"
   ]
  },
  {
   "cell_type": "code",
   "execution_count": 16,
   "id": "7c87022d",
   "metadata": {},
   "outputs": [],
   "source": [
    "x=np.array([1,2,3,4.5], dtype=\"int32\")"
   ]
  },
  {
   "cell_type": "code",
   "execution_count": 17,
   "id": "1b030cfc",
   "metadata": {},
   "outputs": [
    {
     "data": {
      "text/plain": [
       "array([1, 2, 3, 4])"
      ]
     },
     "execution_count": 17,
     "metadata": {},
     "output_type": "execute_result"
    }
   ],
   "source": [
    "x"
   ]
  },
  {
   "cell_type": "code",
   "execution_count": 18,
   "id": "10fbeca2",
   "metadata": {},
   "outputs": [],
   "source": [
    "x=np.array([1,2,3,4.5], dtype=\"str\")"
   ]
  },
  {
   "cell_type": "code",
   "execution_count": 19,
   "id": "0ff1e058",
   "metadata": {},
   "outputs": [
    {
     "data": {
      "text/plain": [
       "array(['1', '2', '3', '4.5'], dtype='<U3')"
      ]
     },
     "execution_count": 19,
     "metadata": {},
     "output_type": "execute_result"
    }
   ],
   "source": [
    "x"
   ]
  },
  {
   "cell_type": "code",
   "execution_count": null,
   "id": "7533170e",
   "metadata": {},
   "outputs": [],
   "source": []
  }
 ],
 "metadata": {
  "kernelspec": {
   "display_name": "Python 3 (ipykernel)",
   "language": "python",
   "name": "python3"
  },
  "language_info": {
   "codemirror_mode": {
    "name": "ipython",
    "version": 3
   },
   "file_extension": ".py",
   "mimetype": "text/x-python",
   "name": "python",
   "nbconvert_exporter": "python",
   "pygments_lexer": "ipython3",
   "version": "3.10.6"
  }
 },
 "nbformat": 4,
 "nbformat_minor": 5
}
