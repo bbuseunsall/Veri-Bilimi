{
 "cells": [
  {
   "cell_type": "code",
   "execution_count": 1,
   "id": "85bddf3e",
   "metadata": {},
   "outputs": [],
   "source": [
    "import pandas as pd\n",
    "import numpy as np"
   ]
  },
  {
   "cell_type": "markdown",
   "id": "8c8fa09b",
   "metadata": {},
   "source": [
    "# Pandas Series"
   ]
  },
  {
   "cell_type": "code",
   "execution_count": 20,
   "id": "a578c67c",
   "metadata": {},
   "outputs": [],
   "source": [
    "g7_pop=pd.Series ([35.467, 63.951, 80.940,60.665,127.061,64.511,318.523])"
   ]
  },
  {
   "cell_type": "code",
   "execution_count": 21,
   "id": "c7ccf184",
   "metadata": {},
   "outputs": [
    {
     "data": {
      "text/plain": [
       "0     35.467\n",
       "1     63.951\n",
       "2     80.940\n",
       "3     60.665\n",
       "4    127.061\n",
       "5     64.511\n",
       "6    318.523\n",
       "dtype: float64"
      ]
     },
     "execution_count": 21,
     "metadata": {},
     "output_type": "execute_result"
    }
   ],
   "source": [
    "g7_pop"
   ]
  },
  {
   "cell_type": "code",
   "execution_count": 22,
   "id": "aadded4e",
   "metadata": {},
   "outputs": [],
   "source": [
    "# Seriye bir isim koyarsak:\n",
    "g7_pop.name= 'Ülke nüfusları'"
   ]
  },
  {
   "cell_type": "code",
   "execution_count": 23,
   "id": "2b0ac0eb",
   "metadata": {},
   "outputs": [
    {
     "data": {
      "text/plain": [
       "0     35.467\n",
       "1     63.951\n",
       "2     80.940\n",
       "3     60.665\n",
       "4    127.061\n",
       "5     64.511\n",
       "6    318.523\n",
       "Name: Ülke nüfusları, dtype: float64"
      ]
     },
     "execution_count": 23,
     "metadata": {},
     "output_type": "execute_result"
    }
   ],
   "source": [
    "g7_pop"
   ]
  },
  {
   "cell_type": "code",
   "execution_count": 24,
   "id": "f3a08669",
   "metadata": {},
   "outputs": [
    {
     "data": {
      "text/plain": [
       "dtype('float64')"
      ]
     },
     "execution_count": 24,
     "metadata": {},
     "output_type": "execute_result"
    }
   ],
   "source": [
    "#serinin veri tipini görmek için:\n",
    "g7_pop.dtype"
   ]
  },
  {
   "cell_type": "code",
   "execution_count": 25,
   "id": "95b94665",
   "metadata": {},
   "outputs": [
    {
     "data": {
      "text/plain": [
       "array([ 35.467,  63.951,  80.94 ,  60.665, 127.061,  64.511, 318.523])"
      ]
     },
     "execution_count": 25,
     "metadata": {},
     "output_type": "execute_result"
    }
   ],
   "source": [
    "g7_pop.values"
   ]
  },
  {
   "cell_type": "code",
   "execution_count": 26,
   "id": "ee35e48b",
   "metadata": {},
   "outputs": [
    {
     "data": {
      "text/plain": [
       "numpy.ndarray"
      ]
     },
     "execution_count": 26,
     "metadata": {},
     "output_type": "execute_result"
    }
   ],
   "source": [
    "type(g7_pop.values)"
   ]
  },
  {
   "cell_type": "markdown",
   "id": "304d1b99",
   "metadata": {},
   "source": [
    "Seriler aslında Numpy arraylerine yada python listelerine benzemektedir. "
   ]
  },
  {
   "cell_type": "code",
   "execution_count": 27,
   "id": "126ebb36",
   "metadata": {},
   "outputs": [
    {
     "data": {
      "text/plain": [
       "0     35.467\n",
       "1     63.951\n",
       "2     80.940\n",
       "3     60.665\n",
       "4    127.061\n",
       "5     64.511\n",
       "6    318.523\n",
       "Name: Ülke nüfusları, dtype: float64"
      ]
     },
     "execution_count": 27,
     "metadata": {},
     "output_type": "execute_result"
    }
   ],
   "source": [
    "#İndexler otomatık atanır.\n",
    "g7_pop"
   ]
  },
  {
   "cell_type": "code",
   "execution_count": 28,
   "id": "fd45e9f9",
   "metadata": {},
   "outputs": [
    {
     "data": {
      "text/plain": [
       "35.467"
      ]
     },
     "execution_count": 28,
     "metadata": {},
     "output_type": "execute_result"
    }
   ],
   "source": [
    "g7_pop[0]"
   ]
  },
  {
   "cell_type": "code",
   "execution_count": 29,
   "id": "60d5bbbd",
   "metadata": {},
   "outputs": [
    {
     "data": {
      "text/plain": [
       "127.061"
      ]
     },
     "execution_count": 29,
     "metadata": {},
     "output_type": "execute_result"
    }
   ],
   "source": [
    "g7_pop[4]"
   ]
  },
  {
   "cell_type": "code",
   "execution_count": 30,
   "id": "92f96cb8",
   "metadata": {},
   "outputs": [],
   "source": [
    "#Listelere değer verirken aşağıdaki şekilde:\n",
    "l=['a','b','c'] "
   ]
  },
  {
   "cell_type": "code",
   "execution_count": 37,
   "id": "cc207b25",
   "metadata": {},
   "outputs": [],
   "source": [
    "g7_pop.index= [\n",
    "   'canada',\n",
    "    'france',\n",
    "    'germany',\n",
    "    'italy',\n",
    "    'japan',\n",
    "    'uk',\n",
    "    'us'\n",
    "]    #index değerlerine ülke isimleri atadık."
   ]
  },
  {
   "cell_type": "code",
   "execution_count": 33,
   "id": "33b90ffd",
   "metadata": {},
   "outputs": [
    {
     "data": {
      "text/plain": [
       "canada      35.467\n",
       "france      63.951\n",
       "germany     80.940\n",
       "italy       60.665\n",
       "japan      127.061\n",
       "uk          64.511\n",
       "us         318.523\n",
       "Name: Ülke nüfusları, dtype: float64"
      ]
     },
     "execution_count": 33,
     "metadata": {},
     "output_type": "execute_result"
    }
   ],
   "source": [
    "g7_pop"
   ]
  },
  {
   "cell_type": "code",
   "execution_count": 34,
   "id": "97f4b06d",
   "metadata": {},
   "outputs": [
    {
     "data": {
      "text/plain": [
       "35.467"
      ]
     },
     "execution_count": 34,
     "metadata": {},
     "output_type": "execute_result"
    }
   ],
   "source": [
    "g7_pop['canada']"
   ]
  },
  {
   "cell_type": "code",
   "execution_count": 35,
   "id": "1d841e8c",
   "metadata": {},
   "outputs": [
    {
     "data": {
      "text/plain": [
       "318.523"
      ]
     },
     "execution_count": 35,
     "metadata": {},
     "output_type": "execute_result"
    }
   ],
   "source": [
    "g7_pop['us']"
   ]
  },
  {
   "cell_type": "code",
   "execution_count": 36,
   "id": "e65c3dd2",
   "metadata": {},
   "outputs": [
    {
     "data": {
      "text/plain": [
       "35.467"
      ]
     },
     "execution_count": 36,
     "metadata": {},
     "output_type": "execute_result"
    }
   ],
   "source": [
    "g7_pop[0]"
   ]
  },
  {
   "cell_type": "code",
   "execution_count": 38,
   "id": "3b6ef40c",
   "metadata": {},
   "outputs": [
    {
     "data": {
      "text/plain": [
       "canada      35.467\n",
       "france      63.951\n",
       "germany     80.940\n",
       "italy       60.665\n",
       "japan      127.061\n",
       "uk          64.511\n",
       "us         318.523\n",
       "Name: Ülke nüfusları, dtype: float64"
      ]
     },
     "execution_count": 38,
     "metadata": {},
     "output_type": "execute_result"
    }
   ],
   "source": [
    "# Serileri, pythondaki dictionaries şeklinde de tanımlayabiliriz.\n",
    "pd.Series({\n",
    "    'canada' : 35.467,\n",
    "    'france': 63.951,\n",
    "    'germany' : 80.94,\n",
    "    'italy' : 60.665,\n",
    "    'japan':127.061,\n",
    "    'uk':64.511,\n",
    "    'us':318.523\n",
    "}, name= 'Ülke nüfusları')"
   ]
  },
  {
   "cell_type": "code",
   "execution_count": 40,
   "id": "2aae470d",
   "metadata": {},
   "outputs": [
    {
     "data": {
      "text/plain": [
       "france     63.951\n",
       "germany    80.940\n",
       "italy      60.665\n",
       "spain         NaN\n",
       "Name: Ülke nüfusları, dtype: float64"
      ]
     },
     "execution_count": 40,
     "metadata": {},
     "output_type": "execute_result"
    }
   ],
   "source": [
    "pd.Series(g7_pop, index=['france', 'germany','italy','spain'])"
   ]
  },
  {
   "cell_type": "markdown",
   "id": "62c01e20",
   "metadata": {},
   "source": [
    "# Indexing"
   ]
  },
  {
   "cell_type": "markdown",
   "id": "bd939dd6",
   "metadata": {},
   "source": [
    "Seri bir sözlük gibidir. Değerlerini Numpy array' de tutar. "
   ]
  },
  {
   "cell_type": "code",
   "execution_count": 41,
   "id": "619e7992",
   "metadata": {},
   "outputs": [
    {
     "data": {
      "text/plain": [
       "canada      35.467\n",
       "france      63.951\n",
       "germany     80.940\n",
       "italy       60.665\n",
       "japan      127.061\n",
       "uk          64.511\n",
       "us         318.523\n",
       "Name: Ülke nüfusları, dtype: float64"
      ]
     },
     "execution_count": 41,
     "metadata": {},
     "output_type": "execute_result"
    }
   ],
   "source": [
    "g7_pop"
   ]
  },
  {
   "cell_type": "code",
   "execution_count": 42,
   "id": "2f6e0081",
   "metadata": {},
   "outputs": [
    {
     "data": {
      "text/plain": [
       "35.467"
      ]
     },
     "execution_count": 42,
     "metadata": {},
     "output_type": "execute_result"
    }
   ],
   "source": [
    "g7_pop['canada']"
   ]
  },
  {
   "cell_type": "code",
   "execution_count": 43,
   "id": "6315dbb9",
   "metadata": {},
   "outputs": [
    {
     "data": {
      "text/plain": [
       "127.061"
      ]
     },
     "execution_count": 43,
     "metadata": {},
     "output_type": "execute_result"
    }
   ],
   "source": [
    "g7_pop['japan']"
   ]
  },
  {
   "cell_type": "code",
   "execution_count": 44,
   "id": "15dc5bb6",
   "metadata": {},
   "outputs": [
    {
     "data": {
      "text/plain": [
       "35.467"
      ]
     },
     "execution_count": 44,
     "metadata": {},
     "output_type": "execute_result"
    }
   ],
   "source": [
    "g7_pop[0]"
   ]
  },
  {
   "cell_type": "markdown",
   "id": "75982190",
   "metadata": {},
   "source": [
    "# .iloc"
   ]
  },
  {
   "cell_type": "markdown",
   "id": "a945c5ce",
   "metadata": {},
   "source": [
    ".iloc metodunu kullanarak değerlere sayısal indexlerini kullanarak da erişilebilir."
   ]
  },
  {
   "cell_type": "code",
   "execution_count": 45,
   "id": "f728ebe3",
   "metadata": {},
   "outputs": [
    {
     "data": {
      "text/plain": [
       "35.467"
      ]
     },
     "execution_count": 45,
     "metadata": {},
     "output_type": "execute_result"
    }
   ],
   "source": [
    "g7_pop.iloc[0]"
   ]
  },
  {
   "cell_type": "code",
   "execution_count": 46,
   "id": "02bdfc0e",
   "metadata": {},
   "outputs": [
    {
     "data": {
      "text/plain": [
       "60.665"
      ]
     },
     "execution_count": 46,
     "metadata": {},
     "output_type": "execute_result"
    }
   ],
   "source": [
    "g7_pop.iloc[3]"
   ]
  },
  {
   "cell_type": "code",
   "execution_count": 47,
   "id": "3f30fffc",
   "metadata": {},
   "outputs": [
    {
     "data": {
      "text/plain": [
       "318.523"
      ]
     },
     "execution_count": 47,
     "metadata": {},
     "output_type": "execute_result"
    }
   ],
   "source": [
    "g7_pop.iloc[-1]   #serinin son değeri"
   ]
  },
  {
   "cell_type": "code",
   "execution_count": 48,
   "id": "676c26d4",
   "metadata": {},
   "outputs": [
    {
     "data": {
      "text/plain": [
       "italy     60.665\n",
       "france    63.951\n",
       "Name: Ülke nüfusları, dtype: float64"
      ]
     },
     "execution_count": 48,
     "metadata": {},
     "output_type": "execute_result"
    }
   ],
   "source": [
    "g7_pop[['italy','france']]   #birden fazla değeri de isteyebiliriz."
   ]
  },
  {
   "cell_type": "code",
   "execution_count": 49,
   "id": "2f65455f",
   "metadata": {},
   "outputs": [
    {
     "data": {
      "text/plain": [
       "canada     35.467\n",
       "france     63.951\n",
       "germany    80.940\n",
       "italy      60.665\n",
       "Name: Ülke nüfusları, dtype: float64"
      ]
     },
     "execution_count": 49,
     "metadata": {},
     "output_type": "execute_result"
    }
   ],
   "source": [
    "g7_pop['canada': 'italy']   # aralık belirtebiliriz. Aralıkta belirtilen üst sınırı da dahil eder."
   ]
  },
  {
   "cell_type": "code",
   "execution_count": 50,
   "id": "16dfde5f",
   "metadata": {},
   "outputs": [
    {
     "data": {
      "text/plain": [
       "['a', 'b', 'c']"
      ]
     },
     "execution_count": 50,
     "metadata": {},
     "output_type": "execute_result"
    }
   ],
   "source": [
    "# pythonda son değer alınmıyordu aradaki fark bu.\n",
    "l"
   ]
  },
  {
   "cell_type": "code",
   "execution_count": 52,
   "id": "84ce6e2b",
   "metadata": {},
   "outputs": [
    {
     "data": {
      "text/plain": [
       "['a', 'b']"
      ]
     },
     "execution_count": 52,
     "metadata": {},
     "output_type": "execute_result"
    }
   ],
   "source": [
    "l[:2]   # 2. indexe kadar alıyor ancak 2. dahil değil. "
   ]
  },
  {
   "cell_type": "markdown",
   "id": "addd2664",
   "metadata": {},
   "source": [
    "# Conditional Selection (boolean arrays)"
   ]
  },
  {
   "cell_type": "code",
   "execution_count": 53,
   "id": "bbda0212",
   "metadata": {},
   "outputs": [
    {
     "data": {
      "text/plain": [
       "canada      35.467\n",
       "france      63.951\n",
       "germany     80.940\n",
       "italy       60.665\n",
       "japan      127.061\n",
       "uk          64.511\n",
       "us         318.523\n",
       "Name: Ülke nüfusları, dtype: float64"
      ]
     },
     "execution_count": 53,
     "metadata": {},
     "output_type": "execute_result"
    }
   ],
   "source": [
    "g7_pop"
   ]
  },
  {
   "cell_type": "code",
   "execution_count": 54,
   "id": "0c06f613",
   "metadata": {},
   "outputs": [
    {
     "data": {
      "text/plain": [
       "canada     False\n",
       "france     False\n",
       "germany     True\n",
       "italy      False\n",
       "japan       True\n",
       "uk         False\n",
       "us          True\n",
       "Name: Ülke nüfusları, dtype: bool"
      ]
     },
     "execution_count": 54,
     "metadata": {},
     "output_type": "execute_result"
    }
   ],
   "source": [
    "g7_pop> 70   # koşul için true false döndürür."
   ]
  },
  {
   "cell_type": "code",
   "execution_count": 55,
   "id": "f1b26f9d",
   "metadata": {},
   "outputs": [
    {
     "data": {
      "text/plain": [
       "canada      35467000.0\n",
       "france      63951000.0\n",
       "germany     80940000.0\n",
       "italy       60665000.0\n",
       "japan      127061000.0\n",
       "uk          64511000.0\n",
       "us         318523000.0\n",
       "Name: Ülke nüfusları, dtype: float64"
      ]
     },
     "execution_count": 55,
     "metadata": {},
     "output_type": "execute_result"
    }
   ],
   "source": [
    "#ülke nüfusları milyonu ifade etmektedir.\n",
    "g7_pop* 1000000"
   ]
  },
  {
   "cell_type": "code",
   "execution_count": 56,
   "id": "ca68b4ef",
   "metadata": {},
   "outputs": [
    {
     "data": {
      "text/plain": [
       "107.30257142857144"
      ]
     },
     "execution_count": 56,
     "metadata": {},
     "output_type": "execute_result"
    }
   ],
   "source": [
    "# Serinin ortalamasını alabiliriz.\n",
    "g7_pop.mean()"
   ]
  },
  {
   "cell_type": "code",
   "execution_count": 60,
   "id": "6c8f36bf",
   "metadata": {},
   "outputs": [
    {
     "data": {
      "text/plain": [
       "germany     80.940\n",
       "japan      127.061\n",
       "us         318.523\n",
       "Name: Ülke nüfusları, dtype: float64"
      ]
     },
     "execution_count": 60,
     "metadata": {},
     "output_type": "execute_result"
    }
   ],
   "source": [
    "g7_pop[g7_pop>70]   #koşulu sağlayan değerleri gösterir."
   ]
  },
  {
   "cell_type": "code",
   "execution_count": 61,
   "id": "ba7994b0",
   "metadata": {},
   "outputs": [
    {
     "data": {
      "text/plain": [
       "japan    127.061\n",
       "us       318.523\n",
       "Name: Ülke nüfusları, dtype: float64"
      ]
     },
     "execution_count": 61,
     "metadata": {},
     "output_type": "execute_result"
    }
   ],
   "source": [
    "g7_pop[g7_pop> g7_pop.mean()]   #Nüfusu ortalamasından büyük olan değerler."
   ]
  },
  {
   "cell_type": "code",
   "execution_count": 62,
   "id": "9af38c52",
   "metadata": {},
   "outputs": [
    {
     "data": {
      "text/plain": [
       "canada     False\n",
       "france     False\n",
       "germany    False\n",
       "italy      False\n",
       "japan       True\n",
       "uk         False\n",
       "us          True\n",
       "Name: Ülke nüfusları, dtype: bool"
      ]
     },
     "execution_count": 62,
     "metadata": {},
     "output_type": "execute_result"
    }
   ],
   "source": [
    "g7_pop> g7_pop.mean()"
   ]
  },
  {
   "cell_type": "code",
   "execution_count": 63,
   "id": "65e578bb",
   "metadata": {},
   "outputs": [
    {
     "data": {
      "text/plain": [
       "97.24996987121581"
      ]
     },
     "execution_count": 63,
     "metadata": {},
     "output_type": "execute_result"
    }
   ],
   "source": [
    "#Standart sapa hesaplanabilir.\n",
    "g7_pop.std()"
   ]
  },
  {
   "cell_type": "markdown",
   "id": "a6b254f8",
   "metadata": {},
   "source": [
    "~ not,\n",
    "| or,\n",
    "& and  :operatörler"
   ]
  },
  {
   "cell_type": "code",
   "execution_count": 67,
   "id": "2851a11b",
   "metadata": {},
   "outputs": [
    {
     "data": {
      "text/plain": [
       "france      63.951\n",
       "germany     80.940\n",
       "italy       60.665\n",
       "japan      127.061\n",
       "uk          64.511\n",
       "us         318.523\n",
       "Name: Ülke nüfusları, dtype: float64"
      ]
     },
     "execution_count": 67,
     "metadata": {},
     "output_type": "execute_result"
    }
   ],
   "source": [
    "g7_pop [(g7_pop> g7_pop.mean() - g7_pop.std()/2 ) | (g7_pop > g7_pop.mean()+ g7_pop.std()/2)]"
   ]
  },
  {
   "cell_type": "markdown",
   "id": "8cefa6e3",
   "metadata": {},
   "source": [
    "# Operations and methods"
   ]
  },
  {
   "cell_type": "code",
   "execution_count": 68,
   "id": "4ca5c61a",
   "metadata": {},
   "outputs": [
    {
     "data": {
      "text/plain": [
       "canada      35.467\n",
       "france      63.951\n",
       "germany     80.940\n",
       "italy       60.665\n",
       "japan      127.061\n",
       "uk          64.511\n",
       "us         318.523\n",
       "Name: Ülke nüfusları, dtype: float64"
      ]
     },
     "execution_count": 68,
     "metadata": {},
     "output_type": "execute_result"
    }
   ],
   "source": [
    "g7_pop"
   ]
  },
  {
   "cell_type": "code",
   "execution_count": 70,
   "id": "f6479618",
   "metadata": {},
   "outputs": [
    {
     "data": {
      "text/plain": [
       "68.51866666666666"
      ]
     },
     "execution_count": 70,
     "metadata": {},
     "output_type": "execute_result"
    }
   ],
   "source": [
    "g7_pop['france' : 'italy'].mean()  #fransa' dan italya' ya ort. nüfus."
   ]
  },
  {
   "cell_type": "code",
   "execution_count": 71,
   "id": "5e745926",
   "metadata": {},
   "outputs": [
    {
     "data": {
      "text/plain": [
       "canada     3.568603\n",
       "france     4.158117\n",
       "germany    4.393708\n",
       "italy      4.105367\n",
       "japan      4.844667\n",
       "uk         4.166836\n",
       "us         5.763695\n",
       "Name: Ülke nüfusları, dtype: float64"
      ]
     },
     "execution_count": 71,
     "metadata": {},
     "output_type": "execute_result"
    }
   ],
   "source": [
    "np.log(g7_pop)"
   ]
  },
  {
   "cell_type": "code",
   "execution_count": 73,
   "id": "1d0154d9",
   "metadata": {},
   "outputs": [
    {
     "data": {
      "text/plain": [
       "germany     80.940\n",
       "japan      127.061\n",
       "Name: Ülke nüfusları, dtype: float64"
      ]
     },
     "execution_count": 73,
     "metadata": {},
     "output_type": "execute_result"
    }
   ],
   "source": [
    "g7_pop [(g7_pop> 80) & (g7_pop <200)]"
   ]
  },
  {
   "cell_type": "code",
   "execution_count": 74,
   "id": "6a8f32fd",
   "metadata": {},
   "outputs": [
    {
     "data": {
      "text/plain": [
       "canada     False\n",
       "france     False\n",
       "germany     True\n",
       "italy      False\n",
       "japan       True\n",
       "uk         False\n",
       "us         False\n",
       "Name: Ülke nüfusları, dtype: bool"
      ]
     },
     "execution_count": 74,
     "metadata": {},
     "output_type": "execute_result"
    }
   ],
   "source": [
    "(g7_pop> 80) & (g7_pop <200)"
   ]
  },
  {
   "cell_type": "code",
   "execution_count": 76,
   "id": "54f796ad",
   "metadata": {},
   "outputs": [],
   "source": [
    "g7_pop[g7_pop<70] = 99.99  # Nüfusu 70' den küçük olanlara 99.99 değeierini ata."
   ]
  },
  {
   "cell_type": "code",
   "execution_count": 77,
   "id": "f6e2a6ee",
   "metadata": {},
   "outputs": [
    {
     "data": {
      "text/plain": [
       "canada      99.990\n",
       "france      99.990\n",
       "germany     80.940\n",
       "italy       99.990\n",
       "japan      127.061\n",
       "uk          99.990\n",
       "us         318.523\n",
       "Name: Ülke nüfusları, dtype: float64"
      ]
     },
     "execution_count": 77,
     "metadata": {},
     "output_type": "execute_result"
    }
   ],
   "source": [
    "g7_pop"
   ]
  },
  {
   "cell_type": "code",
   "execution_count": 78,
   "id": "ddcaae33",
   "metadata": {},
   "outputs": [],
   "source": [
    "g7_pop['canada'] =40.5"
   ]
  },
  {
   "cell_type": "code",
   "execution_count": 79,
   "id": "4cd18d2e",
   "metadata": {},
   "outputs": [
    {
     "data": {
      "text/plain": [
       "canada      40.500\n",
       "france      99.990\n",
       "germany     80.940\n",
       "italy       99.990\n",
       "japan      127.061\n",
       "uk          99.990\n",
       "us         318.523\n",
       "Name: Ülke nüfusları, dtype: float64"
      ]
     },
     "execution_count": 79,
     "metadata": {},
     "output_type": "execute_result"
    }
   ],
   "source": [
    "g7_pop"
   ]
  },
  {
   "cell_type": "code",
   "execution_count": 80,
   "id": "1b045602",
   "metadata": {},
   "outputs": [
    {
     "data": {
      "text/plain": [
       "canada      40.500\n",
       "france      99.990\n",
       "germany     80.940\n",
       "italy       99.990\n",
       "japan      127.061\n",
       "uk          99.990\n",
       "us         500.000\n",
       "Name: Ülke nüfusları, dtype: float64"
      ]
     },
     "execution_count": 80,
     "metadata": {},
     "output_type": "execute_result"
    }
   ],
   "source": [
    "g7_pop.iloc[-1]=500\n",
    "g7_pop"
   ]
  },
  {
   "cell_type": "code",
   "execution_count": 81,
   "id": "f5bd2138",
   "metadata": {},
   "outputs": [
    {
     "data": {
      "text/plain": [
       "canada    40.5\n",
       "Name: Ülke nüfusları, dtype: float64"
      ]
     },
     "execution_count": 81,
     "metadata": {},
     "output_type": "execute_result"
    }
   ],
   "source": [
    "g7_pop[g7_pop<70]"
   ]
  },
  {
   "cell_type": "code",
   "execution_count": null,
   "id": "20f631be",
   "metadata": {},
   "outputs": [],
   "source": []
  }
 ],
 "metadata": {
  "kernelspec": {
   "display_name": "Python 3 (ipykernel)",
   "language": "python",
   "name": "python3"
  },
  "language_info": {
   "codemirror_mode": {
    "name": "ipython",
    "version": 3
   },
   "file_extension": ".py",
   "mimetype": "text/x-python",
   "name": "python",
   "nbconvert_exporter": "python",
   "pygments_lexer": "ipython3",
   "version": "3.10.6"
  }
 },
 "nbformat": 4,
 "nbformat_minor": 5
}
